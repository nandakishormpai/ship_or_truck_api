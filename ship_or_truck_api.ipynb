{
 "cells": [
  {
   "cell_type": "code",
   "execution_count": null,
   "metadata": {
    "colab": {
     "base_uri": "https://localhost:8080/"
    },
    "id": "HlQPNIPXXQ9h",
    "outputId": "f8a2790e-4ac3-45fd-983f-c6fd151dc21e"
   },
   "outputs": [],
   "source": [
    "!wget https://raw.githubusercontent.com/nandakishormpai2001/ship_or_truck_api/model/requirements.txt"
   ]
  },
  {
   "cell_type": "code",
   "execution_count": null,
   "metadata": {
    "colab": {
     "base_uri": "https://localhost:8080/"
    },
    "id": "HJi72ExwQwt7",
    "outputId": "785b5597-2171-4a48-d3bb-a2177bd0a68b"
   },
   "outputs": [],
   "source": [
    "!pip install -r requirements.txt"
   ]
  },
  {
   "cell_type": "code",
   "execution_count": 10,
   "metadata": {
    "id": "STy4Cqp3SS11"
   },
   "outputs": [],
   "source": [
    "from PIL import Image\n",
    "import torch\n",
    "import torchvision\n",
    "from torchvision.transforms import ToTensor\n",
    "import torchvision.transforms as transforms\n",
    "import numpy as np\n",
    "import matplotlib.pyplot as plt\n",
    "\n",
    "import torch.nn as nn\n",
    "import torch.optim as optim\n",
    "import torch.nn.functional as F\n",
    "import os\n",
    "import pickle"
   ]
  },
  {
   "cell_type": "code",
   "execution_count": 11,
   "metadata": {
    "id": "Wx-fwpX-Stpz"
   },
   "outputs": [],
   "source": [
    "class Dataset():\n",
    "    def __init__(self):\n",
    "        self.labels,self.images = self.load_data() \n",
    "\n",
    "    # To load images and labels for dataloader\n",
    "    def load_data(self):\n",
    "        transform_data = transforms.Compose([\n",
    "            transforms.ToTensor(),\n",
    "            transforms.Normalize((0.4914, 0.4822, 0.4465), (0.2023, 0.1994, 0.2010)),\n",
    "        ])\n",
    "        trainset = torchvision.datasets.CIFAR10(\n",
    "            root='./', train=True, download=True, transform=transform_data)\n",
    "        trainloader = torch.utils.data.DataLoader(\n",
    "            trainset, batch_size=64, shuffle=True, num_workers=2)\n",
    "\n",
    "        labels={}\n",
    "        images = {}\n",
    "        count = 0\n",
    "        for batch, (x, y) in enumerate(trainloader):\n",
    "              for i in range(len(x)):\n",
    "                  if(y[i] > 7):\n",
    "                      images[count]=x[i]\n",
    "                      labels[count]=y[i]-8\n",
    "                      count+=1\n",
    "        return labels,images\n",
    "\n",
    "    def __len__(self):\n",
    "        return len(self.labels)\n",
    "    \n",
    "\n",
    "    # To return x,y values in each iteration over dataloader as batches.\n",
    "    def __getitem__(self, idx):\n",
    "        return (\n",
    "            self.images[idx],\n",
    "            self.labels[idx],\n",
    "        )\n",
    "        "
   ]
  },
  {
   "cell_type": "code",
   "execution_count": 13,
   "metadata": {
    "id": "tJgJ8AJRRuTR"
   },
   "outputs": [],
   "source": [
    "# Inheriting from Dataset class\n",
    "class ValDataset(Dataset):\n",
    "\n",
    "    def load_data(self):\n",
    "          transform_data = transforms.Compose([\n",
    "            transforms.ToTensor(),\n",
    "            transforms.Normalize((0.4914, 0.4822, 0.4465), (0.2023, 0.1994, 0.2010)),\n",
    "          ])\n",
    "\n",
    "          testset = torchvision.datasets.CIFAR10(root='./', train=False, download=True, transform=transform_data)\n",
    "          testloader = torch.utils.data.DataLoader(\n",
    "              testset, batch_size=64, shuffle=False, num_workers=2)\n",
    "          labels={}\n",
    "          images = {}\n",
    "          count = 0\n",
    "          for batch, (x, y) in enumerate(testloader):\n",
    "              for i in range(len(x)):\n",
    "                  if(y[i] > 7):\n",
    "                      images[count]=x[i]\n",
    "                      labels[count]=y[i]-8\n",
    "                      count+=1\n",
    "          return labels,images\n"
   ]
  },
  {
   "cell_type": "code",
   "execution_count": 15,
   "metadata": {
    "id": "ZA5x0xiGQGDC"
   },
   "outputs": [],
   "source": [
    "class Network(nn.Module):\n",
    "    def __init__(self):\n",
    "        super(Network, self).__init__()\n",
    "\n",
    "        # CNNs for rgb images\n",
    "        self.conv1 = nn.Conv2d(in_channels=3, out_channels=6, kernel_size=5)\n",
    "        self.conv2 = nn.Conv2d(in_channels=6, out_channels=12, kernel_size=5)\n",
    "\n",
    "        # Connecting CNN outputs with Fully Connected layers\n",
    "        self.fc1 = nn.Linear(in_features=12*5*5, out_features=120)\n",
    "        self.fc2 = nn.Linear(in_features=120, out_features=60)\n",
    "        self.out = nn.Linear(in_features=60, out_features=1)\n",
    "\n",
    "    def forward(self, t):\n",
    "        t = t\n",
    "\n",
    "        t = self.conv1(t)\n",
    "        t = F.relu(t)\n",
    "        t = F.max_pool2d(t, kernel_size=2, stride=2)\n",
    "\n",
    "        t = self.conv2(t)\n",
    "        t = F.relu(t)\n",
    "        t = F.max_pool2d(t, kernel_size=2, stride=2)\n",
    "\n",
    "        t = t.reshape(-1, 12*5*5)\n",
    "        t = self.fc1(t)\n",
    "        t = F.relu(t)\n",
    "\n",
    "        t = self.fc2(t)\n",
    "        t = F.relu(t)\n",
    "\n",
    "        t = torch.sigmoid(self.out(t))\n",
    "\n",
    "        return t"
   ]
  },
  {
   "cell_type": "code",
   "execution_count": 16,
   "metadata": {
    "id": "6SdDIDphMlqK"
   },
   "outputs": [],
   "source": [
    "# Function to return number of correct predictions in a batch\n",
    "def get_num_correct(preds,labels):\n",
    "    return torch.round(preds).eq(labels).sum().item()"
   ]
  },
  {
   "cell_type": "code",
   "execution_count": 24,
   "metadata": {
    "id": "uqOK7S92LAoi"
   },
   "outputs": [],
   "source": [
    "def train(model):\n",
    "    model.train()\n",
    "\n",
    "    # Defining the loss and optimizer\n",
    "    criterion = nn.BCELoss()\n",
    "    optimizer = optim.Adam(model.parameters(), lr=0.001)\n",
    "    num_of_epochs = 15\n",
    "    epochs = []\n",
    "    losses = []\n",
    "    # dataloader in pytorch to load validation and train dataset\n",
    "    trainloader = torch.utils.data.DataLoader(dataset, batch_size=64,shuffle=True)\n",
    "    testloader = torch.utils.data.DataLoader(valdataset, batch_size=32,shuffle=True)\n",
    "    for epoch in range(num_of_epochs):\n",
    "        cnt = 0\n",
    "        tot_loss = 0\n",
    "        tot_correct = 0\n",
    "        tot_test = 0\n",
    "        for batch, (x, y) in enumerate(trainloader):\n",
    "            # Sets the gradients of all optimized tensors to zero\n",
    "            optimizer.zero_grad()\n",
    "            y_pred = model(x)\n",
    "            y=(torch.unsqueeze(y, 1)).to(torch.float32)\n",
    "            # Compute loss (here CrossEntropyLoss)\n",
    "            loss = F.binary_cross_entropy(y_pred,y)\n",
    "\n",
    "            loss.backward()\n",
    "            optimizer.step()\n",
    "\n",
    "        for batch, (x, y) in enumerate(testloader):\n",
    "            # Sets the gradients of all optimized tensors to zero\n",
    "            optimizer.zero_grad()\n",
    "            with torch.no_grad():\n",
    "                y_pred = model(x)\n",
    "                # Compute loss (here CrossEntropyLoss)\n",
    "                y=(torch.unsqueeze(y, 1)).to(torch.float32)\n",
    "                loss = F.binary_cross_entropy(y_pred,y)\n",
    "\n",
    "            tot_loss+=loss.item()\n",
    "            tot_correct +=get_num_correct(y_pred,y)\n",
    "            tot_test+= len(y)\n",
    "        epochs.append(epoch)\n",
    "        losses.append(tot_loss)\n",
    "        print(\"Epoch\",epoch,\" accuracy\",round(((tot_correct/tot_test)*100),2),\" total_correct\",tot_correct,\" loss:\",tot_loss)\n",
    "        torch.save(model.state_dict(), \"models/model001_ep\"+str(epoch+1)+\".pth\")\n",
    "\n",
    "    # Plot a Validation Loss vs Epochs graph \n",
    "    plt.plot(epochs, losses, color='green', linewidth = 3, \n",
    "         marker='o', markerfacecolor='blue', markersize=8) \n",
    "    plt.xlabel('epochs ---->',color='m',fontsize='xx-large' ) \n",
    "    plt.ylabel('loss ------>',color='m',fontsize='xx-large') \n",
    "    axes = plt.gca()        # 'gca' - get current axes\n",
    "    axes.set_facecolor('c') #'c' - cyan\n",
    "    axes.tick_params(axis='y', which='both', colors='tomato')\n",
    "    axes.tick_params(axis='x', which='both', colors='tomato')\n",
    "    plt.title(\"Val Loss vs Epoch\",color='m',fontsize='xx-large')"
   ]
  },
  {
   "cell_type": "code",
   "execution_count": 22,
   "metadata": {
    "colab": {
     "base_uri": "https://localhost:8080/"
    },
    "id": "dCYpOFTJTEpw",
    "outputId": "b5c4f94b-a6b1-44c9-afdb-df2d005edbff"
   },
   "outputs": [
    {
     "name": "stdout",
     "output_type": "stream",
     "text": [
      "Files already downloaded and verified\n",
      "Files already downloaded and verified\n"
     ]
    }
   ],
   "source": [
    "dataset = Dataset()\n",
    "valdataset = ValDataset()"
   ]
  },
  {
   "cell_type": "code",
   "execution_count": 25,
   "metadata": {
    "colab": {
     "base_uri": "https://localhost:8080/",
     "height": 559
    },
    "id": "h282bBs_OFrC",
    "outputId": "0b8d33ae-59ba-47b9-a37c-c7c9c725b089"
   },
   "outputs": [
    {
     "name": "stdout",
     "output_type": "stream",
     "text": [
      "Epoch 0  accuracy 85.05  total_correct 1701  loss: 22.095546305179596\n",
      "Epoch 1  accuracy 88.75  total_correct 1775  loss: 17.54895420372486\n",
      "Epoch 2  accuracy 87.65  total_correct 1753  loss: 17.357545241713524\n",
      "Epoch 3  accuracy 88.45  total_correct 1769  loss: 17.87438704073429\n",
      "Epoch 4  accuracy 91.4  total_correct 1828  loss: 13.435674499720335\n",
      "Epoch 5  accuracy 89.55  total_correct 1791  loss: 18.03157689422369\n",
      "Epoch 6  accuracy 90.6  total_correct 1812  loss: 14.752881476655602\n",
      "Epoch 7  accuracy 92.5  total_correct 1850  loss: 12.187851689755917\n",
      "Epoch 8  accuracy 92.2  total_correct 1844  loss: 12.541647616773844\n",
      "Epoch 9  accuracy 93.55  total_correct 1871  loss: 11.611741866916418\n",
      "Epoch 10  accuracy 92.45  total_correct 1849  loss: 13.886808793991804\n",
      "Epoch 11  accuracy 92.75  total_correct 1855  loss: 12.899155681021512\n",
      "Epoch 12  accuracy 92.3  total_correct 1846  loss: 13.971612188965082\n",
      "Epoch 13  accuracy 92.15  total_correct 1843  loss: 15.50029125250876\n",
      "Epoch 14  accuracy 92.95  total_correct 1859  loss: 13.90432516625151\n"
     ]
    },
    {
     "data": {
      "image/png": "[encoded data removed]",
      "text/plain": [
       "<Figure size 432x288 with 1 Axes>"
      ]
     },
     "metadata": {
      "needs_background": "dark",
      "tags": []
     },
     "output_type": "display_data"
    }
   ],
   "source": [
    "model = Network()\n",
    "train(model)"
   ]
  },
  {
   "cell_type": "markdown",
   "metadata": {
    "id": "SBlGRTMakMPI"
   },
   "source": [
    "**Here we can see that at 10th (9) epoch we get the best loss, so we choose that model for our production.**"
   ]
  },
  {
   "cell_type": "code",
   "execution_count": null,
   "metadata": {
    "id": "NXX0aOg-WzE1"
   },
   "outputs": [],
   "source": [
    "# Saving labels to label value as a json\n",
    "labels = {'ship':0,'truck':1}\n",
    "with open('labels.json', 'wb') as iw:\n",
    "    pickle.dump(labels, iw)"
   ]
  },
  {
   "cell_type": "code",
   "execution_count": null,
   "metadata": {
    "id": "g5MXP5iAYFiP"
   },
   "outputs": [],
   "source": [
    "# prediction function to test\n",
    "def predict(img_path):\n",
    "    image = Image.open(img_path)\n",
    "    image = ToTensor()(image)\n",
    "    resize = transforms.Compose([transforms.Resize((32, 32))])\n",
    "    image = ToTensor()(image)\n",
    "    y_result = model(resize(image).unsqueeze(0))\n",
    "    result_idx = torch.round(y_result)\n",
    "    for key, value in labels.items():\n",
    "        if(value == result_idx):\n",
    "            vehicle = key\n",
    "            break\n",
    "    return vehicle"
   ]
  }
 ],
 "metadata": {
  "colab": {
   "collapsed_sections": [],
   "name": "ship_or_truck_api.ipynb",
   "provenance": []
  },
  "kernelspec": {
   "display_name": "Python 3",
   "language": "python",
   "name": "python3"
  },
  "language_info": {
   "codemirror_mode": {
    "name": "ipython",
    "version": 2
   },
   "file_extension": ".py",
   "mimetype": "text/x-python",
   "name": "python",
   "nbconvert_exporter": "python",
   "pygments_lexer": "ipython2",
   "version": "2.7.17"
  }
 },
 "nbformat": 4,
 "nbformat_minor": 1
}
