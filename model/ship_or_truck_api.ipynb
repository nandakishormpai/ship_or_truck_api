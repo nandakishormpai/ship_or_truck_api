{
  "nbformat": 4,
  "nbformat_minor": 2,
  "metadata": {
    "colab": {
      "name": "ship_or_truck_api.ipynb",
      "provenance": [],
      "collapsed_sections": []
    },
    "kernelspec": {
      "name": "python3",
      "display_name": "Python 3"
    },
    "language_info": {
      "name": "python"
    },
    "widgets": {
      "application/vnd.jupyter.widget-state+json": {
        "fc47d3e8a06644c085522df2cbdfb0ff": {
          "model_module": "@jupyter-widgets/controls",
          "model_name": "HBoxModel",
          "state": {
            "_view_name": "HBoxView",
            "_dom_classes": [],
            "_model_name": "HBoxModel",
            "_view_module": "@jupyter-widgets/controls",
            "_model_module_version": "1.5.0",
            "_view_count": null,
            "_view_module_version": "1.5.0",
            "box_style": "",
            "layout": "IPY_MODEL_f3c1d7bc71c94a53a2392fb52287a140",
            "_model_module": "@jupyter-widgets/controls",
            "children": [
              "IPY_MODEL_13c3fdefc36347868e4f5093e076e21f",
              "IPY_MODEL_7db79df0c3914016acc3d2d15afc4092"
            ]
          }
        },
        "f3c1d7bc71c94a53a2392fb52287a140": {
          "model_module": "@jupyter-widgets/base",
          "model_name": "LayoutModel",
          "state": {
            "_view_name": "LayoutView",
            "grid_template_rows": null,
            "right": null,
            "justify_content": null,
            "_view_module": "@jupyter-widgets/base",
            "overflow": null,
            "_model_module_version": "1.2.0",
            "_view_count": null,
            "flex_flow": null,
            "width": null,
            "min_width": null,
            "border": null,
            "align_items": null,
            "bottom": null,
            "_model_module": "@jupyter-widgets/base",
            "top": null,
            "grid_column": null,
            "overflow_y": null,
            "overflow_x": null,
            "grid_auto_flow": null,
            "grid_area": null,
            "grid_template_columns": null,
            "flex": null,
            "_model_name": "LayoutModel",
            "justify_items": null,
            "grid_row": null,
            "max_height": null,
            "align_content": null,
            "visibility": null,
            "align_self": null,
            "height": null,
            "min_height": null,
            "padding": null,
            "grid_auto_rows": null,
            "grid_gap": null,
            "max_width": null,
            "order": null,
            "_view_module_version": "1.2.0",
            "grid_template_areas": null,
            "object_position": null,
            "object_fit": null,
            "grid_auto_columns": null,
            "margin": null,
            "display": null,
            "left": null
          }
        },
        "13c3fdefc36347868e4f5093e076e21f": {
          "model_module": "@jupyter-widgets/controls",
          "model_name": "FloatProgressModel",
          "state": {
            "_view_name": "ProgressView",
            "style": "IPY_MODEL_d0cfb00d80394b1a961777d3513d4c3e",
            "_dom_classes": [],
            "description": "",
            "_model_name": "FloatProgressModel",
            "bar_style": "success",
            "max": 170498071,
            "_view_module": "@jupyter-widgets/controls",
            "_model_module_version": "1.5.0",
            "value": 170498071,
            "_view_count": null,
            "_view_module_version": "1.5.0",
            "orientation": "horizontal",
            "min": 0,
            "description_tooltip": null,
            "_model_module": "@jupyter-widgets/controls",
            "layout": "IPY_MODEL_6ba2d81eba054b46add9f4633b29c231"
          }
        },
        "7db79df0c3914016acc3d2d15afc4092": {
          "model_module": "@jupyter-widgets/controls",
          "model_name": "HTMLModel",
          "state": {
            "_view_name": "HTMLView",
            "style": "IPY_MODEL_dab0bf58aa034d6c80a838587606f3da",
            "_dom_classes": [],
            "description": "",
            "_model_name": "HTMLModel",
            "placeholder": "​",
            "_view_module": "@jupyter-widgets/controls",
            "_model_module_version": "1.5.0",
            "value": " 170499072/? [00:05&lt;00:00, 30661294.88it/s]",
            "_view_count": null,
            "_view_module_version": "1.5.0",
            "description_tooltip": null,
            "_model_module": "@jupyter-widgets/controls",
            "layout": "IPY_MODEL_d8693f9a1cc84ede9fde896fad6cb36a"
          }
        },
        "d0cfb00d80394b1a961777d3513d4c3e": {
          "model_module": "@jupyter-widgets/controls",
          "model_name": "ProgressStyleModel",
          "state": {
            "_view_name": "StyleView",
            "_model_name": "ProgressStyleModel",
            "description_width": "initial",
            "_view_module": "@jupyter-widgets/base",
            "_model_module_version": "1.5.0",
            "_view_count": null,
            "_view_module_version": "1.2.0",
            "bar_color": null,
            "_model_module": "@jupyter-widgets/controls"
          }
        },
        "6ba2d81eba054b46add9f4633b29c231": {
          "model_module": "@jupyter-widgets/base",
          "model_name": "LayoutModel",
          "state": {
            "_view_name": "LayoutView",
            "grid_template_rows": null,
            "right": null,
            "justify_content": null,
            "_view_module": "@jupyter-widgets/base",
            "overflow": null,
            "_model_module_version": "1.2.0",
            "_view_count": null,
            "flex_flow": null,
            "width": null,
            "min_width": null,
            "border": null,
            "align_items": null,
            "bottom": null,
            "_model_module": "@jupyter-widgets/base",
            "top": null,
            "grid_column": null,
            "overflow_y": null,
            "overflow_x": null,
            "grid_auto_flow": null,
            "grid_area": null,
            "grid_template_columns": null,
            "flex": null,
            "_model_name": "LayoutModel",
            "justify_items": null,
            "grid_row": null,
            "max_height": null,
            "align_content": null,
            "visibility": null,
            "align_self": null,
            "height": null,
            "min_height": null,
            "padding": null,
            "grid_auto_rows": null,
            "grid_gap": null,
            "max_width": null,
            "order": null,
            "_view_module_version": "1.2.0",
            "grid_template_areas": null,
            "object_position": null,
            "object_fit": null,
            "grid_auto_columns": null,
            "margin": null,
            "display": null,
            "left": null
          }
        },
        "dab0bf58aa034d6c80a838587606f3da": {
          "model_module": "@jupyter-widgets/controls",
          "model_name": "DescriptionStyleModel",
          "state": {
            "_view_name": "StyleView",
            "_model_name": "DescriptionStyleModel",
            "description_width": "",
            "_view_module": "@jupyter-widgets/base",
            "_model_module_version": "1.5.0",
            "_view_count": null,
            "_view_module_version": "1.2.0",
            "_model_module": "@jupyter-widgets/controls"
          }
        },
        "d8693f9a1cc84ede9fde896fad6cb36a": {
          "model_module": "@jupyter-widgets/base",
          "model_name": "LayoutModel",
          "state": {
            "_view_name": "LayoutView",
            "grid_template_rows": null,
            "right": null,
            "justify_content": null,
            "_view_module": "@jupyter-widgets/base",
            "overflow": null,
            "_model_module_version": "1.2.0",
            "_view_count": null,
            "flex_flow": null,
            "width": null,
            "min_width": null,
            "border": null,
            "align_items": null,
            "bottom": null,
            "_model_module": "@jupyter-widgets/base",
            "top": null,
            "grid_column": null,
            "overflow_y": null,
            "overflow_x": null,
            "grid_auto_flow": null,
            "grid_area": null,
            "grid_template_columns": null,
            "flex": null,
            "_model_name": "LayoutModel",
            "justify_items": null,
            "grid_row": null,
            "max_height": null,
            "align_content": null,
            "visibility": null,
            "align_self": null,
            "height": null,
            "min_height": null,
            "padding": null,
            "grid_auto_rows": null,
            "grid_gap": null,
            "max_width": null,
            "order": null,
            "_view_module_version": "1.2.0",
            "grid_template_areas": null,
            "object_position": null,
            "object_fit": null,
            "grid_auto_columns": null,
            "margin": null,
            "display": null,
            "left": null
          }
        }
      }
    }
  },
  "cells": [
    {
      "cell_type": "code",
      "execution_count": null,
      "source": [
        "while True : pass"
      ],
      "outputs": [],
      "metadata": {
        "id": "HlQPNIPXXQ9h"
      }
    },
    {
      "cell_type": "code",
      "execution_count": 1,
      "source": [
        "!pip install -r requirements.txt"
      ],
      "outputs": [
        {
          "output_type": "stream",
          "name": "stdout",
          "text": [
            "Looking in links: https://download.pytorch.org/whl/torch_stable.html\n",
            "Collecting torch==1.8.0+cpu\n",
            "  Downloading https://download.pytorch.org/whl/cpu/torch-1.8.0%2Bcpu-cp37-cp37m-linux_x86_64.whl (169.1 MB)\n",
            "\u001b[K     |████████████████████████████████| 169.1 MB 40 kB/s \n",
            "\u001b[?25hRequirement already satisfied: torchvision in /usr/local/lib/python3.7/dist-packages (from -r requirements.txt (line 3)) (0.10.0+cu102)\n",
            "Requirement already satisfied: numpy in /usr/local/lib/python3.7/dist-packages (from -r requirements.txt (line 4)) (1.19.5)\n",
            "Requirement already satisfied: pandas in /usr/local/lib/python3.7/dist-packages (from -r requirements.txt (line 5)) (1.1.5)\n",
            "Requirement already satisfied: matplotlib in /usr/local/lib/python3.7/dist-packages (from -r requirements.txt (line 6)) (3.2.2)\n",
            "Requirement already satisfied: typing-extensions in /usr/local/lib/python3.7/dist-packages (from torch==1.8.0+cpu->-r requirements.txt (line 2)) (3.7.4.3)\n",
            "Requirement already satisfied: pillow>=5.3.0 in /usr/local/lib/python3.7/dist-packages (from torchvision->-r requirements.txt (line 3)) (7.1.2)\n",
            "Collecting torchvision\n",
            "  Downloading https://download.pytorch.org/whl/rocm4.2/torchvision-0.10.0%2Brocm4.2-cp37-cp37m-linux_x86_64.whl (66.3 MB)\n",
            "\u001b[K     |████████████████████████████████| 66.3 MB 34 kB/s \n",
            "\u001b[?25h  Downloading https://download.pytorch.org/whl/rocm4.1/torchvision-0.10.0%2Brocm4.1-cp37-cp37m-linux_x86_64.whl (66.2 MB)\n",
            "\u001b[K     |████████████████████████████████| 66.2 MB 12 kB/s \n",
            "\u001b[?25h  Downloading https://download.pytorch.org/whl/cu111/torchvision-0.10.0%2Bcu111-cp37-cp37m-linux_x86_64.whl (23.2 MB)\n",
            "\u001b[K     |████████████████████████████████| 23.2 MB 31 kB/s \n",
            "\u001b[?25h  Downloading https://download.pytorch.org/whl/cpu/torchvision-0.10.0%2Bcpu-cp37-cp37m-linux_x86_64.whl (15.7 MB)\n",
            "\u001b[K     |████████████████████████████████| 15.7 MB 17 kB/s \n",
            "\u001b[?25h  Downloading torchvision-0.10.0-cp37-cp37m-manylinux1_x86_64.whl (22.1 MB)\n",
            "\u001b[K     |████████████████████████████████| 22.1 MB 1.3 MB/s \n",
            "\u001b[?25h  Downloading https://download.pytorch.org/whl/cu111/torchvision-0.9.1%2Bcu111-cp37-cp37m-linux_x86_64.whl (17.6 MB)\n",
            "\u001b[K     |████████████████████████████████| 17.6 MB 49 kB/s \n",
            "\u001b[?25h  Downloading https://download.pytorch.org/whl/cu102/torchvision-0.9.1%2Bcu102-cp37-cp37m-linux_x86_64.whl (17.3 MB)\n",
            "\u001b[K     |████████████████████████████████| 17.3 MB 36 kB/s \n",
            "\u001b[?25h  Downloading https://download.pytorch.org/whl/cu101/torchvision-0.9.1%2Bcu101-cp37-cp37m-linux_x86_64.whl (17.3 MB)\n",
            "\u001b[K     |████████████████████████████████| 17.3 MB 16 kB/s \n",
            "\u001b[?25h  Downloading https://download.pytorch.org/whl/cpu/torchvision-0.9.1%2Bcpu-cp37-cp37m-linux_x86_64.whl (13.3 MB)\n",
            "\u001b[K     |████████████████████████████████| 13.3 MB 124 kB/s \n",
            "\u001b[?25h  Downloading torchvision-0.9.1-cp37-cp37m-manylinux1_x86_64.whl (17.4 MB)\n",
            "\u001b[K     |████████████████████████████████| 17.4 MB 121 kB/s \n",
            "\u001b[?25h  Downloading https://download.pytorch.org/whl/cu111/torchvision-0.9.0%2Bcu111-cp37-cp37m-linux_x86_64.whl (17.6 MB)\n",
            "\u001b[K     |████████████████████████████████| 17.6 MB 7.4 kB/s \n",
            "\u001b[?25hRequirement already satisfied: python-dateutil>=2.7.3 in /usr/local/lib/python3.7/dist-packages (from pandas->-r requirements.txt (line 5)) (2.8.1)\n",
            "Requirement already satisfied: pytz>=2017.2 in /usr/local/lib/python3.7/dist-packages (from pandas->-r requirements.txt (line 5)) (2018.9)\n",
            "Requirement already satisfied: six>=1.5 in /usr/local/lib/python3.7/dist-packages (from python-dateutil>=2.7.3->pandas->-r requirements.txt (line 5)) (1.15.0)\n",
            "Requirement already satisfied: pyparsing!=2.0.4,!=2.1.2,!=2.1.6,>=2.0.1 in /usr/local/lib/python3.7/dist-packages (from matplotlib->-r requirements.txt (line 6)) (2.4.7)\n",
            "Requirement already satisfied: kiwisolver>=1.0.1 in /usr/local/lib/python3.7/dist-packages (from matplotlib->-r requirements.txt (line 6)) (1.3.1)\n",
            "Requirement already satisfied: cycler>=0.10 in /usr/local/lib/python3.7/dist-packages (from matplotlib->-r requirements.txt (line 6)) (0.10.0)\n",
            "Installing collected packages: torch, torchvision\n",
            "  Attempting uninstall: torch\n",
            "    Found existing installation: torch 1.9.0+cu102\n",
            "    Uninstalling torch-1.9.0+cu102:\n",
            "      Successfully uninstalled torch-1.9.0+cu102\n",
            "  Attempting uninstall: torchvision\n",
            "    Found existing installation: torchvision 0.10.0+cu102\n",
            "    Uninstalling torchvision-0.10.0+cu102:\n",
            "      Successfully uninstalled torchvision-0.10.0+cu102\n",
            "\u001b[31mERROR: pip's dependency resolver does not currently take into account all the packages that are installed. This behaviour is the source of the following dependency conflicts.\n",
            "torchtext 0.10.0 requires torch==1.9.0, but you have torch 1.8.0+cpu which is incompatible.\u001b[0m\n",
            "Successfully installed torch-1.8.0+cpu torchvision-0.9.0+cu111\n"
          ]
        }
      ],
      "metadata": {
        "id": "HJi72ExwQwt7",
        "colab": {
          "base_uri": "https://localhost:8080/"
        },
        "outputId": "df135a6d-1a51-4da1-dadf-94c4372f8776"
      }
    },
    {
      "cell_type": "code",
      "execution_count": 2,
      "source": [
        "from PIL import Image\n",
        "import torch\n",
        "import torchvision\n",
        "from torchvision.transforms import ToTensor\n",
        "import torchvision.transforms as transforms\n",
        "import numpy as np\n",
        "import matplotlib.pyplot as plt\n",
        "\n",
        "import torch.nn as nn\n",
        "import torch.optim as optim\n",
        "import torch.nn.functional as F\n",
        "import os\n",
        "import pickle"
      ],
      "outputs": [],
      "metadata": {
        "id": "STy4Cqp3SS11"
      }
    },
    {
      "cell_type": "code",
      "execution_count": 3,
      "source": [
        "class Dataset():\n",
        "    def __init__(self):\n",
        "        self.labels,self.images = self.load_data() \n",
        "\n",
        "    # To load images and labels for dataloader\n",
        "    def load_data(self):\n",
        "        transform_data = transforms.Compose([\n",
        "            transforms.ToTensor(),\n",
        "            transforms.Normalize((0.4914, 0.4822, 0.4465), (0.2023, 0.1994, 0.2010)),\n",
        "        ])\n",
        "        trainset = torchvision.datasets.CIFAR10(\n",
        "            root='./', train=True, download=True, transform=transform_data)\n",
        "        trainloader = torch.utils.data.DataLoader(\n",
        "            trainset, batch_size=64, shuffle=True, num_workers=2)\n",
        "\n",
        "        labels={}\n",
        "        images = {}\n",
        "        count = 0\n",
        "        for batch, (x, y) in enumerate(trainloader):\n",
        "              for i in range(len(x)):\n",
        "                  if(y[i] > 7):\n",
        "                      images[count]=x[i]\n",
        "                      labels[count]=y[i]-8\n",
        "                      count+=1\n",
        "        return labels,images\n",
        "\n",
        "    def __len__(self):\n",
        "        return len(self.labels)\n",
        "    \n",
        "\n",
        "    # To return x,y values in each iteration over dataloader as batches.\n",
        "    def __getitem__(self, idx):\n",
        "        return (\n",
        "            self.images[idx],\n",
        "            self.labels[idx],\n",
        "        )\n",
        "        "
      ],
      "outputs": [],
      "metadata": {
        "id": "Wx-fwpX-Stpz"
      }
    },
    {
      "cell_type": "code",
      "execution_count": 4,
      "source": [
        "# Inheriting from Dataset class\n",
        "class ValDataset(Dataset):\n",
        "\n",
        "    def load_data(self):\n",
        "          transform_data = transforms.Compose([\n",
        "            transforms.ToTensor(),\n",
        "            transforms.Normalize((0.4914, 0.4822, 0.4465), (0.2023, 0.1994, 0.2010)),\n",
        "          ])\n",
        "\n",
        "          testset = torchvision.datasets.CIFAR10(root='./', train=False, download=True, transform=transform_data)\n",
        "          testloader = torch.utils.data.DataLoader(\n",
        "              testset, batch_size=64, shuffle=False, num_workers=2)\n",
        "          labels={}\n",
        "          images = {}\n",
        "          count = 0\n",
        "          for batch, (x, y) in enumerate(testloader):\n",
        "              for i in range(len(x)):\n",
        "                  if(y[i] > 7):\n",
        "                      images[count]=x[i]\n",
        "                      labels[count]=y[i]-8\n",
        "                      count+=1\n",
        "          return labels,images\n"
      ],
      "outputs": [],
      "metadata": {
        "id": "tJgJ8AJRRuTR"
      }
    },
    {
      "cell_type": "code",
      "execution_count": 5,
      "source": [
        "class Network(nn.Module):\n",
        "    def __init__(self):\n",
        "        super(Network, self).__init__()\n",
        "\n",
        "        # CNNs for rgb images\n",
        "        self.conv1 = nn.Conv2d(in_channels=3, out_channels=6, kernel_size=5)\n",
        "        self.conv2 = nn.Conv2d(in_channels=6, out_channels=12, kernel_size=5)\n",
        "\n",
        "        # Connecting CNN outputs with Fully Connected layers\n",
        "        self.fc1 = nn.Linear(in_features=12*5*5, out_features=120)\n",
        "        self.fc2 = nn.Linear(in_features=120, out_features=60)\n",
        "        self.out = nn.Linear(in_features=60, out_features=1)\n",
        "\n",
        "    def forward(self, t):\n",
        "        t = t\n",
        "\n",
        "        t = self.conv1(t)\n",
        "        t = F.relu(t)\n",
        "        t = F.max_pool2d(t, kernel_size=2, stride=2)\n",
        "\n",
        "        t = self.conv2(t)\n",
        "        t = F.relu(t)\n",
        "        t = F.max_pool2d(t, kernel_size=2, stride=2)\n",
        "\n",
        "        t = t.reshape(-1, 12*5*5)\n",
        "        t = self.fc1(t)\n",
        "        t = F.relu(t)\n",
        "\n",
        "        t = self.fc2(t)\n",
        "        t = F.relu(t)\n",
        "\n",
        "        t = torch.sigmoid(self.out(t))\n",
        "\n",
        "        return t"
      ],
      "outputs": [],
      "metadata": {
        "id": "ZA5x0xiGQGDC"
      }
    },
    {
      "cell_type": "code",
      "execution_count": 22,
      "source": [
        "# Function to return number of correct predictions in a batch\n",
        "def get_num_correct(preds,labels):\n",
        "    return torch.round(preds).eq(labels).sum().item()"
      ],
      "outputs": [],
      "metadata": {
        "id": "6SdDIDphMlqK"
      }
    },
    {
      "cell_type": "code",
      "execution_count": 31,
      "source": [
        "def train(model):\n",
        "    model.train()\n",
        "\n",
        "    # Defining the loss and optimizer\n",
        "    criterion = nn.BCELoss()\n",
        "    optimizer = optim.Adam(model.parameters(), lr=0.001)\n",
        "    num_of_epochs = 50\n",
        "    epochs = []\n",
        "    losses = []\n",
        "    # dataloader in pytorch to load validation and train dataset\n",
        "    trainloader = torch.utils.data.DataLoader(dataset, batch_size=64,shuffle=True)\n",
        "    testloader = torch.utils.data.DataLoader(valdataset, batch_size=32,shuffle=True)\n",
        "    for epoch in range(num_of_epochs):\n",
        "        cnt = 0\n",
        "        tot_loss = 0\n",
        "        tot_correct = 0\n",
        "        tot_test = 0\n",
        "        for batch, (x, y) in enumerate(trainloader):\n",
        "            # Sets the gradients of all optimized tensors to zero\n",
        "            optimizer.zero_grad()\n",
        "            y_pred = model(x)\n",
        "            y=(torch.unsqueeze(y, 1)).to(torch.float32)\n",
        "            # Compute loss (here CrossEntropyLoss)\n",
        "            loss = F.binary_cross_entropy(y_pred,y)\n",
        "\n",
        "            loss.backward()\n",
        "            optimizer.step()\n",
        "\n",
        "        for batch, (x, y) in enumerate(testloader):\n",
        "            # Sets the gradients of all optimized tensors to zero\n",
        "            optimizer.zero_grad()\n",
        "            with torch.no_grad():\n",
        "                y_pred = model(x)\n",
        "                # Compute loss (here CrossEntropyLoss)\n",
        "                y=(torch.unsqueeze(y, 1)).to(torch.float32)\n",
        "                loss = F.binary_cross_entropy(y_pred,y)\n",
        "\n",
        "            tot_loss+=loss.item()\n",
        "            tot_correct +=get_num_correct(y_pred,y)\n",
        "            tot_test+= len(y)\n",
        "        epochs.append(epoch)\n",
        "        losses.append(tot_loss)\n",
        "        print(\"Epoch\",epoch,\" accuracy\",(tot_correct/tot_test)*100,\" total_correct\",tot_correct,\" loss:\",tot_loss)\n",
        "        if(epoch%5==4):\n",
        "            torch.save(model.state_dict(), \"models/model001_ep\"+str(epoch+1)+\".pth\")\n",
        "\n",
        "    # Plot a Validation Loss vs Epochs graph \n",
        "    plt.plot(epochs, losses, color='green', linewidth = 3, \n",
        "         marker='o', markerfacecolor='blue', markersize=8) \n",
        "    plt.xlabel('epochs ---->',color='m',fontsize='xx-large' ) \n",
        "    plt.ylabel('loss ------>',color='m',fontsize='xx-large') \n",
        "    axes = plt.gca()        # 'gca' - get current axes\n",
        "    axes.set_facecolor('c') #'c' - cyan\n",
        "    axes.tick_params(axis='y', which='both', colors='tomato')\n",
        "    axes.tick_params(axis='x', which='both', colors='#20ff14')\n",
        "    plt.title(\"Val Loss vs Epoch\",color='m',fontsize='xx-large')"
      ],
      "outputs": [],
      "metadata": {
        "id": "uqOK7S92LAoi"
      }
    },
    {
      "cell_type": "code",
      "execution_count": 8,
      "source": [
        "dataset = Dataset()\n",
        "valdataset = ValDataset()"
      ],
      "outputs": [
        {
          "output_type": "stream",
          "name": "stdout",
          "text": [
            "Downloading https://www.cs.toronto.edu/~kriz/cifar-10-python.tar.gz to ./cifar-10-python.tar.gz\n"
          ]
        },
        {
          "output_type": "display_data",
          "data": {
            "text/plain": [
              "HBox(children=(FloatProgress(value=0.0, max=170498071.0), HTML(value='')))"
            ],
            "application/vnd.jupyter.widget-view+json": {
              "model_id": "fc47d3e8a06644c085522df2cbdfb0ff",
              "version_minor": 0,
              "version_major": 2
            }
          },
          "metadata": {
            "tags": []
          }
        },
        {
          "output_type": "stream",
          "name": "stdout",
          "text": [
            "\n",
            "Extracting ./cifar-10-python.tar.gz to ./\n",
            "Files already downloaded and verified\n"
          ]
        }
      ],
      "metadata": {
        "colab": {
          "base_uri": "https://localhost:8080/",
          "height": 116,
          "referenced_widgets": [
            "fc47d3e8a06644c085522df2cbdfb0ff",
            "f3c1d7bc71c94a53a2392fb52287a140",
            "13c3fdefc36347868e4f5093e076e21f",
            "7db79df0c3914016acc3d2d15afc4092",
            "d0cfb00d80394b1a961777d3513d4c3e",
            "6ba2d81eba054b46add9f4633b29c231",
            "dab0bf58aa034d6c80a838587606f3da",
            "d8693f9a1cc84ede9fde896fad6cb36a"
          ]
        },
        "id": "dCYpOFTJTEpw",
        "outputId": "6a470836-33a0-4ff3-92f6-61bc276749bc"
      }
    },
    {
      "cell_type": "code",
      "execution_count": 32,
      "source": [
        "model = Network()\n",
        "train(model)"
      ],
      "outputs": [
        {
          "output_type": "stream",
          "name": "stdout",
          "text": [
            "Epoch 0  accuracy 84.1  total_correct 1682  loss: 22.90340830385685\n",
            "Epoch 1  accuracy 86.45  total_correct 1729  loss: 19.837316654622555\n",
            "Epoch 2  accuracy 89.05  total_correct 1781  loss: 16.136321529746056\n",
            "Epoch 3  accuracy 90.75  total_correct 1815  loss: 15.398405708372593\n",
            "Epoch 4  accuracy 91.45  total_correct 1829  loss: 13.625281367450953\n",
            "Epoch 5  accuracy 90.25  total_correct 1805  loss: 16.686705704778433\n",
            "Epoch 6  accuracy 92.0  total_correct 1840  loss: 12.613580100238323\n",
            "Epoch 7  accuracy 91.3  total_correct 1826  loss: 13.411115296185017\n",
            "Epoch 8  accuracy 91.05  total_correct 1821  loss: 14.421838704496622\n",
            "Epoch 9  accuracy 91.8  total_correct 1836  loss: 12.371410941705108\n",
            "Epoch 10  accuracy 91.55  total_correct 1831  loss: 14.289502128958702\n",
            "Epoch 11  accuracy 92.10000000000001  total_correct 1842  loss: 13.034926263615489\n",
            "Epoch 12  accuracy 92.35  total_correct 1847  loss: 13.957462472841144\n",
            "Epoch 13  accuracy 92.2  total_correct 1844  loss: 14.584883127361536\n",
            "Epoch 14  accuracy 92.55  total_correct 1851  loss: 14.797330832108855\n",
            "Epoch 15  accuracy 92.10000000000001  total_correct 1842  loss: 16.419586546719074\n",
            "Epoch 16  accuracy 92.65  total_correct 1853  loss: 16.446705171838403\n",
            "Epoch 17  accuracy 92.30000000000001  total_correct 1846  loss: 15.931110071018338\n",
            "Epoch 18  accuracy 91.35  total_correct 1827  loss: 21.456900824327022\n",
            "Epoch 19  accuracy 91.7  total_correct 1834  loss: 18.614923474844545\n",
            "Epoch 20  accuracy 92.30000000000001  total_correct 1846  loss: 22.29090120224282\n",
            "Epoch 21  accuracy 92.05  total_correct 1841  loss: 23.691344629973173\n",
            "Epoch 22  accuracy 92.15  total_correct 1843  loss: 21.15791617333889\n",
            "Epoch 23  accuracy 92.65  total_correct 1853  loss: 24.857610194012523\n",
            "Epoch 24  accuracy 92.2  total_correct 1844  loss: 29.420346316532232\n",
            "Epoch 25  accuracy 90.55  total_correct 1811  loss: 27.11746005434543\n",
            "Epoch 26  accuracy 92.55  total_correct 1851  loss: 26.22017303854227\n",
            "Epoch 27  accuracy 91.05  total_correct 1821  loss: 41.168989131227136\n",
            "Epoch 28  accuracy 92.10000000000001  total_correct 1842  loss: 36.87789131561294\n",
            "Epoch 29  accuracy 90.64999999999999  total_correct 1813  loss: 46.13036716287024\n",
            "Epoch 30  accuracy 92.5  total_correct 1850  loss: 33.975582695857156\n",
            "Epoch 31  accuracy 92.80000000000001  total_correct 1856  loss: 31.71397999371402\n",
            "Epoch 32  accuracy 93.15  total_correct 1863  loss: 38.39292229630519\n",
            "Epoch 33  accuracy 93.35  total_correct 1867  loss: 40.483020767365815\n",
            "Epoch 34  accuracy 92.9  total_correct 1858  loss: 40.66947392647853\n",
            "Epoch 35  accuracy 92.80000000000001  total_correct 1856  loss: 42.16628851299174\n",
            "Epoch 36  accuracy 92.7  total_correct 1854  loss: 48.670396675726806\n",
            "Epoch 37  accuracy 93.2  total_correct 1864  loss: 52.00296709337272\n",
            "Epoch 38  accuracy 93.15  total_correct 1863  loss: 53.11734692780374\n",
            "Epoch 39  accuracy 93.15  total_correct 1863  loss: 53.836434183467645\n",
            "Epoch 40  accuracy 93.2  total_correct 1864  loss: 59.927426516922424\n",
            "Epoch 41  accuracy 93.0  total_correct 1860  loss: 60.47501576598734\n",
            "Epoch 42  accuracy 93.2  total_correct 1864  loss: 66.07546719455314\n",
            "Epoch 43  accuracy 93.15  total_correct 1863  loss: 66.92803724872647\n",
            "Epoch 44  accuracy 93.10000000000001  total_correct 1862  loss: 67.98871360419434\n",
            "Epoch 45  accuracy 93.15  total_correct 1863  loss: 77.7523689767695\n",
            "Epoch 46  accuracy 93.15  total_correct 1863  loss: 73.6756911072589\n",
            "Epoch 47  accuracy 93.10000000000001  total_correct 1862  loss: 77.8153730322083\n",
            "Epoch 48  accuracy 93.05  total_correct 1861  loss: 75.09605619413196\n",
            "Epoch 49  accuracy 93.15  total_correct 1863  loss: 83.30567894753949\n"
          ]
        },
        {
          "output_type": "display_data",
          "data": {
            "text/plain": [
              "<Figure size 432x288 with 1 Axes>"
            ],
            "image/png": "[encoded data removed]"
          },
          "metadata": {
            "tags": [],
            "needs_background": "dark"
          }
        }
      ],
      "metadata": {
        "id": "h282bBs_OFrC",
        "colab": {
          "base_uri": "https://localhost:8080/",
          "height": 1000
        },
        "outputId": "b62cb077-c0d0-4cb4-c215-8cbb40fd9140"
      }
    },
    {
      "cell_type": "code",
      "execution_count": 33,
      "source": [
        "# Saving labels to label value as a json\n",
        "reference = {'ship':0,'truck':1}\n",
        "with open('labels.json', 'wb') as iw:\n",
        "    pickle.dump(reference, iw)"
      ],
      "outputs": [],
      "metadata": {
        "id": "NXX0aOg-WzE1"
      }
    },
    {
      "cell_type": "code",
      "execution_count": null,
      "source": [
        "# prediction function to test\n",
        "def predict(img_path):\n",
        "    image = Image.open(img_path)\n",
        "    image = ToTensor()(image)\n",
        "    resize = transforms.Compose([transforms.Resize((256,256))])\n",
        "    y_result = model(resize(image).unsqueeze(0))\n",
        "    result_idx = y_result.argmax(dim=1)\n",
        "    for key,value in reference.items():\n",
        "        if(value==result_idx):\n",
        "            print(key)\n",
        "            break"
      ],
      "outputs": [],
      "metadata": {
        "id": "g5MXP5iAYFiP"
      }
    }
  ]
}